{
 "cells": [
  {
   "cell_type": "code",
   "execution_count": null,
   "id": "083f366d-c189-47b7-a04b-0c5e0d015c65",
   "metadata": {},
   "outputs": [],
   "source": [
    "1.\n",
    "Multithreading is the phenomenon of executing more than a thread in the system, where the execution of these threads can be of two different types, such as Concurrent and Parallel multithread executions.\n",
    "A Thread can be defined as a chunk or unit of a process that can be identified as either a user-level thread or a Kernel-level thread\n",
    "\n",
    "Multithreading makes multitasking possible when it breaks programs into smaller, executable threads.\n",
    "\"threading\" module used in python."
   ]
  },
  {
   "cell_type": "code",
   "execution_count": null,
   "id": "258c8b6d-42e4-46be-93dc-e406c9b0d5ec",
   "metadata": {},
   "outputs": [],
   "source": [
    "2.\n",
    "threading module is used for creating, controlling and managing threads in python.\n",
    "with the help of threading program runs faster\n",
    "Threads of a process can share the memory of global variables.\n",
    "\n",
    "activeount()- is used to count active thread in the system\n",
    "currenthread()- It is used to return the current Thread object\n",
    "enumerate()-it returns all the list of active thread"
   ]
  },
  {
   "cell_type": "code",
   "execution_count": null,
   "id": "c2dbed69-76b8-436d-878e-2a9a434e8ff1",
   "metadata": {},
   "outputs": [],
   "source": [
    "3.\n",
    "run()-this method is an inbuilt method of the Thread class of the threading module . This method is used to represent a thread's activity.\n",
    "\n",
    "start()-this method is an inbuilt method of the Thread class of the threading module in Python. \n",
    "It is used to start a thread activity .This method must be called at most one time for one thread.\n",
    "\n",
    "join()-this method delays a program  flow of execution until the target thread has been completely read.\n",
    "\n",
    "isalive()-It uses a Thread object, and checks whether that thread is alive or not"
   ]
  },
  {
   "cell_type": "code",
   "execution_count": 17,
   "id": "140bfdf5-0892-4921-b1a5-a73705f7a907",
   "metadata": {},
   "outputs": [
    {
     "name": "stdout",
     "output_type": "stream",
     "text": [
      "[1, 4, 9, 16, 25, 36, 49]\n",
      "[1, 8, 27, 64, 125, 216, 343]\n"
     ]
    }
   ],
   "source": [
    "4.\n",
    "import threading \n",
    "\n",
    "def square(a):\n",
    "    k=[]\n",
    "    for i in a:\n",
    "        k.append(i**2)\n",
    "    print(k)\n",
    "    \n",
    "def cube(a):\n",
    "    k1=[]\n",
    "    for i in a:\n",
    "        k1.append(i**3)\n",
    "    print(k1)\n",
    "       \n",
    "\n",
    "l=[1,2,3,4,5,6,7]\n",
    "t1 = threading.Thread(target=square, args=(l,)  )\n",
    "t2 = threading.Thread(target=cube, args=(l,))\n",
    "t1.start()\n",
    "t2.start()\n",
    "\n"
   ]
  },
  {
   "cell_type": "code",
   "execution_count": null,
   "id": "8b678386-64dd-4e4d-9029-1adb13597d37",
   "metadata": {},
   "outputs": [],
   "source": [
    "5.\n",
    "advatnage->\n",
    "Multithreading in Python give the efficient utilization of resources as the threads share the same memory and data space. \n",
    "It also allows the concurrent appearance of multiple tasks and reduces the response time.\n",
    "This improves the performance.\n",
    "\n",
    "disadvantage->\n",
    "It can consume a large space of stocks of blocked threads.\n",
    "It needs support for thread or process. If a parent process has several threads for proper process functioning, the child processes should also be multithreaded because they may be required.\n",
    "It imposes context switching overhead"
   ]
  },
  {
   "cell_type": "code",
   "execution_count": null,
   "id": "e8813e32-126f-4209-94d9-b21138c98c91",
   "metadata": {},
   "outputs": [],
   "source": [
    "6.\n",
    "race- A race condition occurs when two threads use the same variable at a given time.\n",
    "deadlock-Deadlock exists when two threads seek one lock simultaneously. \n",
    "This situation will stop both threads from processing or executing the functions"
   ]
  }
 ],
 "metadata": {
  "kernelspec": {
   "display_name": "Python 3 (ipykernel)",
   "language": "python",
   "name": "python3"
  },
  "language_info": {
   "codemirror_mode": {
    "name": "ipython",
    "version": 3
   },
   "file_extension": ".py",
   "mimetype": "text/x-python",
   "name": "python",
   "nbconvert_exporter": "python",
   "pygments_lexer": "ipython3",
   "version": "3.10.8"
  }
 },
 "nbformat": 4,
 "nbformat_minor": 5
}
